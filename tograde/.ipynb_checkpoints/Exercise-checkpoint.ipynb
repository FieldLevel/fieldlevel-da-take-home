{
 "cells": [
  {
   "cell_type": "code",
   "execution_count": 96,
   "metadata": {},
   "outputs": [
    {
     "data": {
      "text/html": [
       "<style>.container { width:98% !important; }</style>"
      ],
      "text/plain": [
       "<IPython.core.display.HTML object>"
      ]
     },
     "metadata": {},
     "output_type": "display_data"
    }
   ],
   "source": [
    "from IPython.display import display, HTML, Markdown\n",
    "display(HTML(\"<style>.container { width:98% !important; }</style>\"))\n",
    "\n",
    "import pandas as pd\n",
    "pd.set_option(\"display.max_columns\",999)\n",
    "pd.options.display.max_rows = 9999\n",
    "pd.set_option('display.float_format', lambda x: '%.3f' % x)"
   ]
  },
  {
   "cell_type": "code",
   "execution_count": 97,
   "metadata": {},
   "outputs": [
    {
     "data": {
      "text/html": [
       "<div>\n",
       "<style scoped>\n",
       "    .dataframe tbody tr th:only-of-type {\n",
       "        vertical-align: middle;\n",
       "    }\n",
       "\n",
       "    .dataframe tbody tr th {\n",
       "        vertical-align: top;\n",
       "    }\n",
       "\n",
       "    .dataframe thead th {\n",
       "        text-align: right;\n",
       "    }\n",
       "</style>\n",
       "<table border=\"1\" class=\"dataframe\">\n",
       "  <thead>\n",
       "    <tr style=\"text-align: right;\">\n",
       "      <th></th>\n",
       "      <th>LogId</th>\n",
       "      <th>EmailSentDateTimeUtc</th>\n",
       "      <th>EmailCampaignId</th>\n",
       "      <th>EmailOpenedDateTimeUtc</th>\n",
       "      <th>EmailClickedDateTimeUtc</th>\n",
       "      <th>UserId</th>\n",
       "      <th>ZipCode</th>\n",
       "      <th>AddressData</th>\n",
       "    </tr>\n",
       "  </thead>\n",
       "  <tbody>\n",
       "    <tr>\n",
       "      <th>0</th>\n",
       "      <td>208728980120</td>\n",
       "      <td>2019-07-31 15:13:25.817</td>\n",
       "      <td>792229022220</td>\n",
       "      <td>NaN</td>\n",
       "      <td>NaN</td>\n",
       "      <td>851332105693</td>\n",
       "      <td>nan</td>\n",
       "      <td>NaN</td>\n",
       "    </tr>\n",
       "    <tr>\n",
       "      <th>1</th>\n",
       "      <td>292563123584</td>\n",
       "      <td>2019-08-02 02:15:52.447</td>\n",
       "      <td>866429603262</td>\n",
       "      <td>2019-08-02 15:16:01.7533333</td>\n",
       "      <td>NaN</td>\n",
       "      <td>369293054977</td>\n",
       "      <td>nan</td>\n",
       "      <td>NaN</td>\n",
       "    </tr>\n",
       "    <tr>\n",
       "      <th>2</th>\n",
       "      <td>72552047640</td>\n",
       "      <td>2019-08-07 16:21:37.293</td>\n",
       "      <td>383130475294</td>\n",
       "      <td>NaN</td>\n",
       "      <td>NaN</td>\n",
       "      <td>938684493058</td>\n",
       "      <td>nan</td>\n",
       "      <td>NaN</td>\n",
       "    </tr>\n",
       "    <tr>\n",
       "      <th>3</th>\n",
       "      <td>1089121462891</td>\n",
       "      <td>2019-08-07 16:38:03.323</td>\n",
       "      <td>792229022220</td>\n",
       "      <td>NaN</td>\n",
       "      <td>NaN</td>\n",
       "      <td>50233193142</td>\n",
       "      <td>nan</td>\n",
       "      <td>NaN</td>\n",
       "    </tr>\n",
       "    <tr>\n",
       "      <th>4</th>\n",
       "      <td>828770719378</td>\n",
       "      <td>2019-08-12 11:45:43.293</td>\n",
       "      <td>479810600058</td>\n",
       "      <td>NaN</td>\n",
       "      <td>NaN</td>\n",
       "      <td>369293054977</td>\n",
       "      <td>nan</td>\n",
       "      <td>NaN</td>\n",
       "    </tr>\n",
       "  </tbody>\n",
       "</table>\n",
       "</div>"
      ],
      "text/plain": [
       "           LogId     EmailSentDateTimeUtc  EmailCampaignId  \\\n",
       "0   208728980120  2019-07-31 15:13:25.817     792229022220   \n",
       "1   292563123584  2019-08-02 02:15:52.447     866429603262   \n",
       "2    72552047640  2019-08-07 16:21:37.293     383130475294   \n",
       "3  1089121462891  2019-08-07 16:38:03.323     792229022220   \n",
       "4   828770719378  2019-08-12 11:45:43.293     479810600058   \n",
       "\n",
       "        EmailOpenedDateTimeUtc EmailClickedDateTimeUtc        UserId  ZipCode  \\\n",
       "0                          NaN                     NaN  851332105693      nan   \n",
       "1  2019-08-02 15:16:01.7533333                     NaN  369293054977      nan   \n",
       "2                          NaN                     NaN  938684493058      nan   \n",
       "3                          NaN                     NaN   50233193142      nan   \n",
       "4                          NaN                     NaN  369293054977      nan   \n",
       "\n",
       "  AddressData  \n",
       "0         NaN  \n",
       "1         NaN  \n",
       "2         NaN  \n",
       "3         NaN  \n",
       "4         NaN  "
      ]
     },
     "metadata": {},
     "output_type": "display_data"
    },
    {
     "data": {
      "text/html": [
       "<div>\n",
       "<style scoped>\n",
       "    .dataframe tbody tr th:only-of-type {\n",
       "        vertical-align: middle;\n",
       "    }\n",
       "\n",
       "    .dataframe tbody tr th {\n",
       "        vertical-align: top;\n",
       "    }\n",
       "\n",
       "    .dataframe thead th {\n",
       "        text-align: right;\n",
       "    }\n",
       "</style>\n",
       "<table border=\"1\" class=\"dataframe\">\n",
       "  <thead>\n",
       "    <tr style=\"text-align: right;\">\n",
       "      <th></th>\n",
       "      <th>UserId</th>\n",
       "      <th>DateOfActivityPST</th>\n",
       "      <th>ActivityCount</th>\n",
       "    </tr>\n",
       "  </thead>\n",
       "  <tbody>\n",
       "    <tr>\n",
       "      <th>0</th>\n",
       "      <td>241710509395</td>\n",
       "      <td>2019-09-24</td>\n",
       "      <td>29</td>\n",
       "    </tr>\n",
       "    <tr>\n",
       "      <th>1</th>\n",
       "      <td>241710509395</td>\n",
       "      <td>2020-09-11</td>\n",
       "      <td>60</td>\n",
       "    </tr>\n",
       "    <tr>\n",
       "      <th>2</th>\n",
       "      <td>435228414681</td>\n",
       "      <td>2018-01-06</td>\n",
       "      <td>12</td>\n",
       "    </tr>\n",
       "    <tr>\n",
       "      <th>3</th>\n",
       "      <td>435228414681</td>\n",
       "      <td>2018-04-20</td>\n",
       "      <td>20</td>\n",
       "    </tr>\n",
       "    <tr>\n",
       "      <th>4</th>\n",
       "      <td>435228414681</td>\n",
       "      <td>2018-05-10</td>\n",
       "      <td>136</td>\n",
       "    </tr>\n",
       "  </tbody>\n",
       "</table>\n",
       "</div>"
      ],
      "text/plain": [
       "         UserId DateOfActivityPST  ActivityCount\n",
       "0  241710509395        2019-09-24             29\n",
       "1  241710509395        2020-09-11             60\n",
       "2  435228414681        2018-01-06             12\n",
       "3  435228414681        2018-04-20             20\n",
       "4  435228414681        2018-05-10            136"
      ]
     },
     "metadata": {},
     "output_type": "display_data"
    }
   ],
   "source": [
    "df_emails = pd.read_csv('C:/Users/peter/Desktop/fieldlevel/data/email_data.csv',delimiter=',')\n",
    "display(df_emails.head())\n",
    "\n",
    "df_activity = pd.read_csv('C:/Users/peter/Desktop/fieldlevel/data/activity_data.csv',delimiter=',')\n",
    "display(df_activity.head())"
   ]
  },
  {
   "cell_type": "markdown",
   "metadata": {},
   "source": [
    "### Summary Stats\n",
    "Quick review of the summary statistics before going into the questions."
   ]
  },
  {
   "cell_type": "code",
   "execution_count": 98,
   "metadata": {},
   "outputs": [
    {
     "data": {
      "text/html": [
       "<div>\n",
       "<style scoped>\n",
       "    .dataframe tbody tr th:only-of-type {\n",
       "        vertical-align: middle;\n",
       "    }\n",
       "\n",
       "    .dataframe tbody tr th {\n",
       "        vertical-align: top;\n",
       "    }\n",
       "\n",
       "    .dataframe thead th {\n",
       "        text-align: right;\n",
       "    }\n",
       "</style>\n",
       "<table border=\"1\" class=\"dataframe\">\n",
       "  <thead>\n",
       "    <tr style=\"text-align: right;\">\n",
       "      <th></th>\n",
       "      <th>LogId</th>\n",
       "      <th>EmailCampaignId</th>\n",
       "      <th>UserId</th>\n",
       "      <th>ZipCode</th>\n",
       "    </tr>\n",
       "  </thead>\n",
       "  <tbody>\n",
       "    <tr>\n",
       "      <th>count</th>\n",
       "      <td>474163.000</td>\n",
       "      <td>474163.000</td>\n",
       "      <td>474163.000</td>\n",
       "      <td>322050.000</td>\n",
       "    </tr>\n",
       "    <tr>\n",
       "      <th>mean</th>\n",
       "      <td>549429456152.760</td>\n",
       "      <td>406429682124.997</td>\n",
       "      <td>548490970549.491</td>\n",
       "      <td>52687.182</td>\n",
       "    </tr>\n",
       "    <tr>\n",
       "      <th>std</th>\n",
       "      <td>317550939261.309</td>\n",
       "      <td>254978695850.065</td>\n",
       "      <td>317000136204.760</td>\n",
       "      <td>27090.120</td>\n",
       "    </tr>\n",
       "    <tr>\n",
       "      <th>min</th>\n",
       "      <td>2140858.000</td>\n",
       "      <td>9203452516.000</td>\n",
       "      <td>16210065.000</td>\n",
       "      <td>0.000</td>\n",
       "    </tr>\n",
       "    <tr>\n",
       "      <th>25%</th>\n",
       "      <td>274366951947.000</td>\n",
       "      <td>82833411612.000</td>\n",
       "      <td>273284848934.000</td>\n",
       "      <td>30528.000</td>\n",
       "    </tr>\n",
       "    <tr>\n",
       "      <th>50%</th>\n",
       "      <td>549181755834.000</td>\n",
       "      <td>479810600058.000</td>\n",
       "      <td>549034088154.000</td>\n",
       "      <td>51503.000</td>\n",
       "    </tr>\n",
       "    <tr>\n",
       "      <th>75%</th>\n",
       "      <td>824091670695.000</td>\n",
       "      <td>653559880232.000</td>\n",
       "      <td>822122951324.000</td>\n",
       "      <td>76013.000</td>\n",
       "    </tr>\n",
       "    <tr>\n",
       "      <th>max</th>\n",
       "      <td>1099510808926.000</td>\n",
       "      <td>1077146033709.000</td>\n",
       "      <td>1099509020834.000</td>\n",
       "      <td>99926.000</td>\n",
       "    </tr>\n",
       "  </tbody>\n",
       "</table>\n",
       "</div>"
      ],
      "text/plain": [
       "                  LogId   EmailCampaignId            UserId    ZipCode\n",
       "count        474163.000        474163.000        474163.000 322050.000\n",
       "mean   549429456152.760  406429682124.997  548490970549.491  52687.182\n",
       "std    317550939261.309  254978695850.065  317000136204.760  27090.120\n",
       "min         2140858.000    9203452516.000      16210065.000      0.000\n",
       "25%    274366951947.000   82833411612.000  273284848934.000  30528.000\n",
       "50%    549181755834.000  479810600058.000  549034088154.000  51503.000\n",
       "75%    824091670695.000  653559880232.000  822122951324.000  76013.000\n",
       "max   1099510808926.000 1077146033709.000 1099509020834.000  99926.000"
      ]
     },
     "metadata": {},
     "output_type": "display_data"
    },
    {
     "name": "stdout",
     "output_type": "stream",
     "text": [
      "<class 'pandas.core.frame.DataFrame'>\n",
      "RangeIndex: 474163 entries, 0 to 474162\n",
      "Data columns (total 8 columns):\n",
      " #   Column                   Non-Null Count   Dtype  \n",
      "---  ------                   --------------   -----  \n",
      " 0   LogId                    474163 non-null  int64  \n",
      " 1   EmailSentDateTimeUtc     474163 non-null  object \n",
      " 2   EmailCampaignId          474163 non-null  int64  \n",
      " 3   EmailOpenedDateTimeUtc   139822 non-null  object \n",
      " 4   EmailClickedDateTimeUtc  23251 non-null   object \n",
      " 5   UserId                   474163 non-null  int64  \n",
      " 6   ZipCode                  322050 non-null  float64\n",
      " 7   AddressData              397932 non-null  object \n",
      "dtypes: float64(1), int64(3), object(4)\n",
      "memory usage: 28.9+ MB\n"
     ]
    },
    {
     "data": {
      "text/plain": [
       "None"
      ]
     },
     "metadata": {},
     "output_type": "display_data"
    },
    {
     "data": {
      "text/html": [
       "<div>\n",
       "<style scoped>\n",
       "    .dataframe tbody tr th:only-of-type {\n",
       "        vertical-align: middle;\n",
       "    }\n",
       "\n",
       "    .dataframe tbody tr th {\n",
       "        vertical-align: top;\n",
       "    }\n",
       "\n",
       "    .dataframe thead th {\n",
       "        text-align: right;\n",
       "    }\n",
       "</style>\n",
       "<table border=\"1\" class=\"dataframe\">\n",
       "  <thead>\n",
       "    <tr style=\"text-align: right;\">\n",
       "      <th></th>\n",
       "      <th>UserId</th>\n",
       "      <th>ActivityCount</th>\n",
       "    </tr>\n",
       "  </thead>\n",
       "  <tbody>\n",
       "    <tr>\n",
       "      <th>count</th>\n",
       "      <td>4559973.000</td>\n",
       "      <td>4559973.000</td>\n",
       "    </tr>\n",
       "    <tr>\n",
       "      <th>mean</th>\n",
       "      <td>547776382115.257</td>\n",
       "      <td>45.742</td>\n",
       "    </tr>\n",
       "    <tr>\n",
       "      <th>std</th>\n",
       "      <td>316675478773.958</td>\n",
       "      <td>101.896</td>\n",
       "    </tr>\n",
       "    <tr>\n",
       "      <th>min</th>\n",
       "      <td>16210065.000</td>\n",
       "      <td>1.000</td>\n",
       "    </tr>\n",
       "    <tr>\n",
       "      <th>25%</th>\n",
       "      <td>272730047488.000</td>\n",
       "      <td>6.000</td>\n",
       "    </tr>\n",
       "    <tr>\n",
       "      <th>50%</th>\n",
       "      <td>549116206602.000</td>\n",
       "      <td>18.000</td>\n",
       "    </tr>\n",
       "    <tr>\n",
       "      <th>75%</th>\n",
       "      <td>819239564505.000</td>\n",
       "      <td>46.000</td>\n",
       "    </tr>\n",
       "    <tr>\n",
       "      <th>max</th>\n",
       "      <td>1099509020834.000</td>\n",
       "      <td>9654.000</td>\n",
       "    </tr>\n",
       "  </tbody>\n",
       "</table>\n",
       "</div>"
      ],
      "text/plain": [
       "                 UserId  ActivityCount\n",
       "count       4559973.000    4559973.000\n",
       "mean   547776382115.257         45.742\n",
       "std    316675478773.958        101.896\n",
       "min        16210065.000          1.000\n",
       "25%    272730047488.000          6.000\n",
       "50%    549116206602.000         18.000\n",
       "75%    819239564505.000         46.000\n",
       "max   1099509020834.000       9654.000"
      ]
     },
     "metadata": {},
     "output_type": "display_data"
    },
    {
     "name": "stdout",
     "output_type": "stream",
     "text": [
      "<class 'pandas.core.frame.DataFrame'>\n",
      "RangeIndex: 4559973 entries, 0 to 4559972\n",
      "Data columns (total 3 columns):\n",
      " #   Column             Dtype \n",
      "---  ------             ----- \n",
      " 0   UserId             int64 \n",
      " 1   DateOfActivityPST  object\n",
      " 2   ActivityCount      int64 \n",
      "dtypes: int64(2), object(1)\n",
      "memory usage: 104.4+ MB\n"
     ]
    },
    {
     "data": {
      "text/plain": [
       "None"
      ]
     },
     "metadata": {},
     "output_type": "display_data"
    }
   ],
   "source": [
    "# df emails\n",
    "display(df_emails.describe())\n",
    "display(df_emails.info())\n",
    "\n",
    "#df activity\n",
    "display(df_activity.describe())\n",
    "display(df_activity.info())"
   ]
  },
  {
   "cell_type": "markdown",
   "metadata": {},
   "source": [
    "## Questions"
   ]
  },
  {
   "cell_type": "markdown",
   "metadata": {},
   "source": [
    "### Question 1"
   ]
  },
  {
   "cell_type": "markdown",
   "metadata": {},
   "source": [
    "How many rows are in the two datasets? \n",
    "\n",
    "If the log of emails represents 3% of the emails we sent over this period, how many emails did we send? (use python to print the numbers and display them nicely with commas)"
   ]
  },
  {
   "cell_type": "code",
   "execution_count": 99,
   "metadata": {},
   "outputs": [
    {
     "name": "stdout",
     "output_type": "stream",
     "text": [
      "email df rows: 474,163\n"
     ]
    }
   ],
   "source": [
    "# email rows, using multiple methods to confirm number of rows\n",
    "email_row = df_emails.shape[0] # rows\n",
    "#ddf_emails.index\n",
    "#len(df_emails)\n",
    "print('email df rows: ' + f'{email_row:,}')"
   ]
  },
  {
   "cell_type": "code",
   "execution_count": 100,
   "metadata": {},
   "outputs": [
    {
     "name": "stdout",
     "output_type": "stream",
     "text": [
      "activity_row rows: 4,559,973\n"
     ]
    }
   ],
   "source": [
    "# df activity rows, using multiple methods to confirm number of rows\n",
    "activity_row = df_activity.shape[0] # rows\n",
    "#df_activity.index\n",
    "#len(df_activity)\n",
    "print('activity_row rows: ' + f'{activity_row:,}') "
   ]
  },
  {
   "cell_type": "code",
   "execution_count": 101,
   "metadata": {},
   "outputs": [
    {
     "name": "stdout",
     "output_type": "stream",
     "text": [
      "total number of emails sent: 15,805,433.0\n"
     ]
    }
   ],
   "source": [
    "# Answer the how many emails sent\n",
    "# example math example first\n",
    "# 3% of 100 emails is 3\n",
    ".03*100\n",
    "\n",
    "# to back to 100 we get it to 1% and multiple by 100\n",
    "((.03 * 100) / 3)*100\n",
    "\n",
    "# applying the same math to the email count\n",
    "email_row_one_perc = email_row / 3 # get to 1%\n",
    "\n",
    "# multiple 1% sample by 100 to get full email count\n",
    "total_emails = round(email_row_one_perc * 100,0) # round to 0 decimals to remove fraction of emails\n",
    "\n",
    "# checking my math\n",
    "#display(474163 / .03) # macthes\n",
    "\n",
    "# display results\n",
    "print('total number of emails sent: ' + f'{total_emails:,}')\n"
   ]
  },
  {
   "cell_type": "markdown",
   "metadata": {},
   "source": [
    "### Question 2\n",
    "What are the earliest and most recent dates of emails sent in this dataset in California time (Pacific Standard Time Zone)? (use python to print the date in format mm/dd/yyy hour:minute in 24 hour time)"
   ]
  },
  {
   "cell_type": "code",
   "execution_count": 102,
   "metadata": {},
   "outputs": [],
   "source": [
    "import pandas as pd\n",
    "import datetime\n",
    "import pytz\n",
    "pst = pytz.timezone('US/Pacific')\n",
    "\n",
    "# convert to datetime\n",
    "df_emails['EmailSentDateTimeUtc'] = pd.to_datetime(df_emails['EmailSentDateTimeUtc'],utc=True)\n",
    "\n",
    "\n",
    "# Get min and max dates of emails\n",
    "min_email = min(df_emails['EmailSentDateTimeUtc'])\n",
    "max_email = max(df_emails['EmailSentDateTimeUtc'])\n",
    "\n",
    "# convert to PST from UTC\n",
    "# checked the time difference and this works\n",
    "max_email = max_email.tz_convert(pst)\n",
    "min_email = min_email.tz_convert(pst)\n"
   ]
  },
  {
   "cell_type": "code",
   "execution_count": 103,
   "metadata": {},
   "outputs": [
    {
     "name": "stdout",
     "output_type": "stream",
     "text": [
      "Earliest email sent in PST from dataset: 01/03/2018 20:29\n"
     ]
    }
   ],
   "source": [
    "print('Earliest email sent in PST from dataset: ' + datetime.date.strftime(min_email, \"%m/%d/%Y %H:%M\"))"
   ]
  },
  {
   "cell_type": "code",
   "execution_count": 104,
   "metadata": {},
   "outputs": [
    {
     "name": "stdout",
     "output_type": "stream",
     "text": [
      "Most recent email sent in PST from dataset: 04/19/2021 06:45\n"
     ]
    }
   ],
   "source": [
    "print('Most recent email sent in PST from dataset: ' + datetime.date.strftime(max_email, \"%m/%d/%Y %H:%M\"))"
   ]
  },
  {
   "cell_type": "markdown",
   "metadata": {},
   "source": [
    "### Question 3\n",
    "Which 10 zip codes receive the most emails and how many emails do they receive? Is your answer the same if you use the data in the AddressData column?"
   ]
  },
  {
   "cell_type": "code",
   "execution_count": 105,
   "metadata": {},
   "outputs": [
    {
     "name": "stdout",
     "output_type": "stream",
     "text": [
      "Ten Zip Codes that recieve the most emails:\n"
     ]
    },
    {
     "data": {
      "text/html": [
       "<div>\n",
       "<style scoped>\n",
       "    .dataframe tbody tr th:only-of-type {\n",
       "        vertical-align: middle;\n",
       "    }\n",
       "\n",
       "    .dataframe tbody tr th {\n",
       "        vertical-align: top;\n",
       "    }\n",
       "\n",
       "    .dataframe thead th {\n",
       "        text-align: right;\n",
       "    }\n",
       "</style>\n",
       "<table border=\"1\" class=\"dataframe\">\n",
       "  <thead>\n",
       "    <tr style=\"text-align: right;\">\n",
       "      <th></th>\n",
       "      <th>count</th>\n",
       "    </tr>\n",
       "    <tr>\n",
       "      <th>ZipCode</th>\n",
       "      <th></th>\n",
       "    </tr>\n",
       "  </thead>\n",
       "  <tbody>\n",
       "    <tr>\n",
       "      <th>63301.000</th>\n",
       "      <td>312</td>\n",
       "    </tr>\n",
       "    <tr>\n",
       "      <th>33801.000</th>\n",
       "      <td>310</td>\n",
       "    </tr>\n",
       "    <tr>\n",
       "      <th>34210.000</th>\n",
       "      <td>299</td>\n",
       "    </tr>\n",
       "    <tr>\n",
       "      <th>38301.000</th>\n",
       "      <td>295</td>\n",
       "    </tr>\n",
       "    <tr>\n",
       "      <th>67460.000</th>\n",
       "      <td>285</td>\n",
       "    </tr>\n",
       "    <tr>\n",
       "      <th>95971.000</th>\n",
       "      <td>277</td>\n",
       "    </tr>\n",
       "    <tr>\n",
       "      <th>42301.000</th>\n",
       "      <td>266</td>\n",
       "    </tr>\n",
       "    <tr>\n",
       "      <th>36104.000</th>\n",
       "      <td>254</td>\n",
       "    </tr>\n",
       "    <tr>\n",
       "      <th>40769.000</th>\n",
       "      <td>234</td>\n",
       "    </tr>\n",
       "    <tr>\n",
       "      <th>85225.000</th>\n",
       "      <td>229</td>\n",
       "    </tr>\n",
       "  </tbody>\n",
       "</table>\n",
       "</div>"
      ],
      "text/plain": [
       "           count\n",
       "ZipCode         \n",
       "63301.000    312\n",
       "33801.000    310\n",
       "34210.000    299\n",
       "38301.000    295\n",
       "67460.000    285\n",
       "95971.000    277\n",
       "42301.000    266\n",
       "36104.000    254\n",
       "40769.000    234\n",
       "85225.000    229"
      ]
     },
     "metadata": {},
     "output_type": "display_data"
    },
    {
     "name": "stdout",
     "output_type": "stream",
     "text": [
      "10 Zip Codes (plus Nulls) that recieve the most emails based on AddressData:\n"
     ]
    },
    {
     "data": {
      "text/html": [
       "<div>\n",
       "<style scoped>\n",
       "    .dataframe tbody tr th:only-of-type {\n",
       "        vertical-align: middle;\n",
       "    }\n",
       "\n",
       "    .dataframe tbody tr th {\n",
       "        vertical-align: top;\n",
       "    }\n",
       "\n",
       "    .dataframe thead th {\n",
       "        text-align: right;\n",
       "    }\n",
       "</style>\n",
       "<table border=\"1\" class=\"dataframe\">\n",
       "  <thead>\n",
       "    <tr style=\"text-align: right;\">\n",
       "      <th></th>\n",
       "      <th>count</th>\n",
       "    </tr>\n",
       "    <tr>\n",
       "      <th>AddressData</th>\n",
       "      <th></th>\n",
       "    </tr>\n",
       "  </thead>\n",
       "  <tbody>\n",
       "    <tr>\n",
       "      <th>{'DataType':'Address','ZipCode':'NULL'}</th>\n",
       "      <td>61555</td>\n",
       "    </tr>\n",
       "    <tr>\n",
       "      <th>{'DataType':'Address','ZipCode':'NULL','ZipCode':'NULL'}</th>\n",
       "      <td>6815</td>\n",
       "    </tr>\n",
       "    <tr>\n",
       "      <th>{'DataType':'Address','ZipCode':'34210'}</th>\n",
       "      <td>242</td>\n",
       "    </tr>\n",
       "    <tr>\n",
       "      <th>{'DataType':'Address','ZipCode':'33801'}</th>\n",
       "      <td>231</td>\n",
       "    </tr>\n",
       "    <tr>\n",
       "      <th>{'DataType':'Address','ZipCode':'63301'}</th>\n",
       "      <td>200</td>\n",
       "    </tr>\n",
       "    <tr>\n",
       "      <th>{'DataType':'Address','ZipCode':'38301'}</th>\n",
       "      <td>198</td>\n",
       "    </tr>\n",
       "    <tr>\n",
       "      <th>{'DataType':'Address','ZipCode':'95971'}</th>\n",
       "      <td>197</td>\n",
       "    </tr>\n",
       "    <tr>\n",
       "      <th>{'DataType':'Address','ZipCode':'36104'}</th>\n",
       "      <td>191</td>\n",
       "    </tr>\n",
       "    <tr>\n",
       "      <th>{'DataType':'Address','ZipCode':'29203'}</th>\n",
       "      <td>175</td>\n",
       "    </tr>\n",
       "    <tr>\n",
       "      <th>{'DataType':'Address','ZipCode':'42301'}</th>\n",
       "      <td>172</td>\n",
       "    </tr>\n",
       "    <tr>\n",
       "      <th>{'DataType':'Address','ZipCode':'75134'}</th>\n",
       "      <td>169</td>\n",
       "    </tr>\n",
       "    <tr>\n",
       "      <th>{'DataType':'Address','ZipCode':'67456'}</th>\n",
       "      <td>160</td>\n",
       "    </tr>\n",
       "  </tbody>\n",
       "</table>\n",
       "</div>"
      ],
      "text/plain": [
       "                                                    count\n",
       "AddressData                                              \n",
       "{'DataType':'Address','ZipCode':'NULL'}             61555\n",
       "{'DataType':'Address','ZipCode':'NULL','ZipCode...   6815\n",
       "{'DataType':'Address','ZipCode':'34210'}              242\n",
       "{'DataType':'Address','ZipCode':'33801'}              231\n",
       "{'DataType':'Address','ZipCode':'63301'}              200\n",
       "{'DataType':'Address','ZipCode':'38301'}              198\n",
       "{'DataType':'Address','ZipCode':'95971'}              197\n",
       "{'DataType':'Address','ZipCode':'36104'}              191\n",
       "{'DataType':'Address','ZipCode':'29203'}              175\n",
       "{'DataType':'Address','ZipCode':'42301'}              172\n",
       "{'DataType':'Address','ZipCode':'75134'}              169\n",
       "{'DataType':'Address','ZipCode':'67456'}              160"
      ]
     },
     "metadata": {},
     "output_type": "display_data"
    },
    {
     "name": "stdout",
     "output_type": "stream",
     "text": [
      "The data has different results between ZipCode and AddressData\n"
     ]
    }
   ],
   "source": [
    "# group by zip code and then keep only top ten\n",
    "z_df = df_emails.groupby(['ZipCode']).count()\n",
    "z_df.sort_values(['LogId'], ascending= False).head(10) # top ten\n",
    "\n",
    "# let's check this quick\n",
    "zz_df = df_emails\n",
    "zz_df['count'] = 1\n",
    "zz_df = zz_df[['ZipCode','count']]\n",
    "zz_df = zz_df.groupby(['ZipCode']).sum()\n",
    "print('Ten Zip Codes that recieve the most emails:')\n",
    "display(zz_df.sort_values(['count'], ascending= False).head(10)) # matches, will display this as it's cleaner\n",
    "\n",
    "# let's look at addresses to see if they have the same results\n",
    "zz_df = df_emails\n",
    "zz_df['count'] = 1\n",
    "zz_df = zz_df[['AddressData','count']]\n",
    "zz_df = zz_df.groupby(['AddressData']).sum()\n",
    "print('10 Zip Codes (plus Nulls) that recieve the most emails based on AddressData:')\n",
    "display(zz_df.sort_values(['count'], ascending= False).head(12))\n",
    "# different results than the zip code data\n",
    "print('The data has different results between ZipCode and AddressData')\n"
   ]
  },
  {
   "cell_type": "markdown",
   "metadata": {},
   "source": [
    "### Question 4\n",
    "Plot two lines on a single graph.\n",
    "    * total distinct users who were sent at least 1 email by month and year.\n",
    "    * the monthly percentage of users who were sent an email and were active the same day\n"
   ]
  },
  {
   "cell_type": "code",
   "execution_count": 106,
   "metadata": {},
   "outputs": [],
   "source": [
    "# total distinct users who were sent at least 1 email by month and year.\n",
    "\n",
    "# make year month column and user id and then make into count\n",
    "dfg = df_emails.copy(deep=True)\n",
    "dfg = dfg[['EmailSentDateTimeUtc','UserId']]\n",
    "dfg['EmailSentDateTimePst'] = dfg['EmailSentDateTimeUtc'].dt.tz_convert('US/Pacific') # make a pst column for optionality\n",
    "dfg['year_month_pst'] = dfg['EmailSentDateTimePst'].dt.strftime('%Y-%m')\n",
    "dfg = dfg[['year_month_pst', 'UserId']]\n",
    "dfg = dfg.drop_duplicates()\n",
    "dfg['unique_email_users'] = 1\n",
    "dfg = dfg.drop(['UserId'], axis = 1)\n",
    "dfg = dfg.groupby(['year_month_pst']).sum()\n",
    "#dfg.head() # okay that works\n",
    "\n",
    "### Emails \n",
    "# need to join on day and user id and make sure day are both convered to utc or pst\n",
    "dff = df_emails.copy(deep=True)\n",
    "dff['EmailSentDateTimePst'] = dff['EmailSentDateTimeUtc'].dt.tz_convert('US/Pacific') # make a pst column\n",
    "dff['day_pst'] = dff['EmailSentDateTimePst'].dt.strftime('%Y-%m-%d') # pst day\n",
    "\n",
    "# make it smaller and drop dupes for emailed users\n",
    "dff = dff[['day_pst', 'UserId']]\n",
    "dff = dff.drop_duplicates()\n",
    "dff['unique_email_users'] = 1\n",
    "\n",
    "## Activity\n",
    "################\n",
    "# Join with activity\n",
    "ddf = df_activity.copy(deep=True)\n",
    "# convert to datetime\n",
    "ddf['DateOfActivityPST'] = pd.to_datetime(ddf['DateOfActivityPST'])\n",
    "ddf['day_pst'] = ddf['DateOfActivityPST'].dt.strftime('%Y-%m-%d') # pst day\n",
    "\n",
    "# make it smaller and drop dupes for emailed users\n",
    "ddf = ddf[['day_pst', 'UserId']]\n",
    "ddf = ddf.drop_duplicates()\n",
    "ddf['unique_actitivity_users'] = 1\n"
   ]
  },
  {
   "cell_type": "code",
   "execution_count": 107,
   "metadata": {},
   "outputs": [],
   "source": [
    "# join the uniques user data sets\n",
    "df_final = pd.merge(dff, ddf, how='left', on=['day_pst', 'UserId']) # only care about emailed users\n",
    "\n",
    "# fill NAs with 0\n",
    "df_final['unique_actitivity_users'] = df_final['unique_actitivity_users'].fillna(0)\n",
    "\n",
    "# make a year and month column\n",
    "df_final['day_pst'] = pd.to_datetime(df_final['day_pst'])\n",
    "df_final['year_month_pst'] = df_final['day_pst'].dt.strftime('%Y-%m') # using pst for now\n",
    "\n",
    "# need to break out what users both have 1\n",
    "df_active_email = df_final[(df_final['unique_email_users'] == 1) & (df_final['unique_actitivity_users'] == 1)]\n",
    "\n",
    "# need to make unique combination over a month and comapre against total emailed users\n",
    "df_active_email = df_active_email[['year_month_pst', 'UserId']]\n",
    "df_active_email = df_active_email.drop_duplicates()\n",
    "df_active_email['unique_email_active_same_day'] = 1\n",
    "df_active_email = df_active_email.drop(['UserId'], axis = 1)\n",
    "df_active_email = df_active_email.groupby(['year_month_pst']).sum()\n",
    "\n",
    "# review the data\n",
    "#df_active_email.head(15) # looks good, emailed users active on same day\n",
    "\n",
    "# need the total active users during each month added to data set\n",
    "# Activity monthly active\n",
    "dz = df_activity.copy(deep=True)\n",
    "# convert to datetime\n",
    "dz['DateOfActivityPST'] = pd.to_datetime(dz['DateOfActivityPST'])\n",
    "dz['year_month_pst'] = dz['DateOfActivityPST'].dt.strftime('%Y-%m') # year and month\n",
    "dz = dz[['year_month_pst', 'UserId']]\n",
    "dz = dz.drop_duplicates()\n",
    "dz['unique_actitive_users'] = 1\n",
    "dz = dz.drop(['UserId'], axis = 1)\n",
    "dz = dz.groupby(['year_month_pst']).sum()\n",
    "\n",
    "# join the data sets\n",
    "df_b = pd.merge(dz, df_active_email, how='left', on='year_month_pst')\n",
    "\n",
    "# layer in the emailed users\n",
    "df_b = pd.merge(df_b, dfg, how='left', on='year_month_pst')\n",
    "\n",
    "# make the percentage\n",
    "df_b['perc_users_email_active'] = (df_b['unique_email_active_same_day'] / df_b['unique_actitive_users'])*100\n",
    "\n",
    "#df_b.head()"
   ]
  },
  {
   "cell_type": "code",
   "execution_count": 108,
   "metadata": {},
   "outputs": [
    {
     "data": {
      "image/png": "[encoded data removed]",
      "text/plain": [
       "<Figure size 432x288 with 2 Axes>"
      ]
     },
     "metadata": {
      "needs_background": "light"
     },
     "output_type": "display_data"
    }
   ],
   "source": [
    "import matplotlib.pyplot as plt\n",
    "import matplotlib.ticker as mticker\n",
    "\n",
    "# create figure and axis objects with subplots()\n",
    "fig,ax = plt.subplots()\n",
    "# make a plot\n",
    "ax.plot(df_b['unique_email_users'], color=\"red\", marker=\"o\")\n",
    "# set y-axis label\n",
    "ax.set_ylabel(\"Unique Emailed Users\",color=\"red\",fontsize=12)\n",
    "\n",
    "# twin object for two different y-axis on the sample plot\n",
    "ax2=ax.twinx()\n",
    "# make a plot with different y-axis using second axis object\n",
    "ax2.plot(df_b['perc_users_email_active'],color=\"blue\",marker=\"o\")\n",
    "ax2.set_ylabel(\"Emailed and Active Users %\",color=\"blue\",fontsize=12)\n",
    "\n",
    "myLocator = mticker.MultipleLocator(3)\n",
    "ax.xaxis.set_major_locator(myLocator)\n",
    "fig.autofmt_xdate()\n",
    "plt.show()"
   ]
  },
  {
   "cell_type": "markdown",
   "metadata": {},
   "source": [
    "### Question 5\n",
    "All the emails we send contain at least one link users can click which should send them to the FieldLevel app (where they would login and become active for that day). The team is curious if any of the links are broken. A broken link would be indicated by a record of email sent and clicked but no record of user activity on the day of the click. \n",
    "\n",
    "**Estimate how many emails (by EmailCampaignId) may have broken links.** If you find an EmailCampaignId that has possible broken links, **estimate an upper bound for the number of users it has effected** and **the probability a user who gets email from us has experienced a broken link multiple times**. \n",
    "\n",
    "For your answer, write a paragraph using clear language that non-technical members of the team will understand."
   ]
  },
  {
   "cell_type": "code",
   "execution_count": 109,
   "metadata": {},
   "outputs": [],
   "source": [
    "# make a table of campaign id, userid, email sent date, clicked date, activity\n",
    "# will need to join on clicked date and user id this time\n",
    "\n",
    "# modules\n",
    "import pandas as pd\n",
    "import datetime\n",
    "import pytz\n",
    "pst = pytz.timezone('US/Pacific')\n",
    "import matplotlib.pyplot as plt\n",
    "\n",
    "# Load the data\n",
    "# normally don't do this but want each question to be able to run individually\n",
    "df_emails = pd.read_csv('C:/Users/peter/Desktop/fieldlevel/data/email_data.csv',delimiter=',')\n",
    "df_activity = pd.read_csv('C:/Users/peter/Desktop/fieldlevel/data/activity_data.csv',delimiter=',')\n",
    "\n",
    "### Emails \n",
    "# need to join on day and user id and make sure day are both converted\n",
    "dff = df_emails\n",
    "dff['EmailSentDateTimeUtc'] = pd.to_datetime(dff['EmailSentDateTimeUtc'],utc=True)\n",
    "dff['EmailSentDateTimePst'] = dff['EmailSentDateTimeUtc'].dt.tz_convert('US/Pacific') # make a pst column\n",
    "dff['day_pst'] = dff['EmailSentDateTimePst'].dt.strftime('%Y-%m-%d') # pst day\n",
    "\n",
    "# binary columns for email, clicked\n",
    "dff['emailed'] = dff['EmailCampaignId']\n",
    "dff['click'] = dff['EmailClickedDateTimeUtc']\n",
    "dff[['emailed', 'click']] = dff[['emailed', 'click']].notnull().astype(int)\n",
    "\n",
    "\n",
    "### Activity\n",
    "ddf = df_activity\n",
    "# convert to datetime\n",
    "ddf['DateOfActivityPST'] = pd.to_datetime(ddf['DateOfActivityPST'])\n",
    "ddf['day_pst'] = ddf['DateOfActivityPST'].dt.strftime('%Y-%m-%d') # pst day\n",
    "\n",
    "# join the emailed and activity data sets\n",
    "df_final = pd.merge(dff, ddf, how='left', on=['day_pst', 'UserId']) # only care about emailed users since we are looking at clicks to activity\n",
    "df_final = df_final.drop_duplicates()\n",
    "\n",
    "# activity binary column\n",
    "df_final['active'] = df_final['DateOfActivityPST']\n",
    "df_final[['active']] = df_final[['active']].notnull().astype(int)\n",
    "\n",
    "# Let's simplify and only look at the binary columns\n",
    "df_final_b = df_final[['day_pst', 'UserId', 'EmailCampaignId', 'emailed', 'click', 'active']]\n"
   ]
  },
  {
   "cell_type": "code",
   "execution_count": 110,
   "metadata": {},
   "outputs": [
    {
     "name": "stdout",
     "output_type": "stream",
     "text": [
      "Email campaigns likely impacted by broken links: \n"
     ]
    },
    {
     "data": {
      "text/html": [
       "<div>\n",
       "<style scoped>\n",
       "    .dataframe tbody tr th:only-of-type {\n",
       "        vertical-align: middle;\n",
       "    }\n",
       "\n",
       "    .dataframe tbody tr th {\n",
       "        vertical-align: top;\n",
       "    }\n",
       "\n",
       "    .dataframe thead th {\n",
       "        text-align: right;\n",
       "    }\n",
       "</style>\n",
       "<table border=\"1\" class=\"dataframe\">\n",
       "  <thead>\n",
       "    <tr style=\"text-align: right;\">\n",
       "      <th></th>\n",
       "      <th>emailed</th>\n",
       "      <th>click</th>\n",
       "      <th>active</th>\n",
       "    </tr>\n",
       "    <tr>\n",
       "      <th>EmailCampaignId</th>\n",
       "      <th></th>\n",
       "      <th></th>\n",
       "      <th></th>\n",
       "    </tr>\n",
       "  </thead>\n",
       "  <tbody>\n",
       "    <tr>\n",
       "      <th>839979203061</th>\n",
       "      <td>93</td>\n",
       "      <td>12</td>\n",
       "      <td>2</td>\n",
       "    </tr>\n",
       "    <tr>\n",
       "      <th>946235214960</th>\n",
       "      <td>31</td>\n",
       "      <td>3</td>\n",
       "      <td>0</td>\n",
       "    </tr>\n",
       "    <tr>\n",
       "      <th>39690707224</th>\n",
       "      <td>26</td>\n",
       "      <td>2</td>\n",
       "      <td>0</td>\n",
       "    </tr>\n",
       "    <tr>\n",
       "      <th>594069736879</th>\n",
       "      <td>21</td>\n",
       "      <td>1</td>\n",
       "      <td>0</td>\n",
       "    </tr>\n",
       "    <tr>\n",
       "      <th>286577474399</th>\n",
       "      <td>15</td>\n",
       "      <td>1</td>\n",
       "      <td>0</td>\n",
       "    </tr>\n",
       "  </tbody>\n",
       "</table>\n",
       "</div>"
      ],
      "text/plain": [
       "                 emailed  click  active\n",
       "EmailCampaignId                        \n",
       "839979203061          93     12       2\n",
       "946235214960          31      3       0\n",
       "39690707224           26      2       0\n",
       "594069736879          21      1       0\n",
       "286577474399          15      1       0"
      ]
     },
     "execution_count": 110,
     "metadata": {},
     "output_type": "execute_result"
    }
   ],
   "source": [
    "# let's only look at potentially broken emails first before reviewing all\n",
    "#broken_links = df_final_b[(df_final_b['click'] == 1) & (df_final_b['active'] == 0)] # broken links only\n",
    "broken_links = df_final_b # all emails\n",
    "\n",
    "# review overall campaigns\n",
    "broken_links = broken_links.drop(['UserId', 'day_pst'], axis=1)\n",
    "broken_links = broken_links.groupby('EmailCampaignId').sum().sort_values('emailed', ascending = False)\n",
    "print('Email campaigns likely impacted by broken links: ')\n",
    "broken_links[broken_links['click'] > broken_links['active']].sort_values('emailed', ascending = False).head() # emails campaigns likely impacted"
   ]
  },
  {
   "cell_type": "code",
   "execution_count": 111,
   "metadata": {},
   "outputs": [
    {
     "name": "stdout",
     "output_type": "stream",
     "text": [
      "Number of users impacted by broken links: 136\n"
     ]
    }
   ],
   "source": [
    "# number of users impacted\n",
    "email_list = ['839979203061','946235214960','39690707224','594069736879','286577474399','1047358027219','961944970759','9203452516', '1057986473750']\n",
    "filtered_df = df_final_b[df_final_b['EmailCampaignId'].isin(email_list)]\n",
    "\n",
    "nn = filtered_df['UserId'].drop_duplicates().shape[0] # users impacted\n",
    "print('Number of users impacted by broken links: ' + f'{nn:,}')\n"
   ]
  },
  {
   "cell_type": "code",
   "execution_count": 112,
   "metadata": {},
   "outputs": [
    {
     "name": "stdout",
     "output_type": "stream",
     "text": [
      "Probability a user is impacted by broken links 0.12671791288143489%\n"
     ]
    }
   ],
   "source": [
    "#probaility of user being impacted\n",
    "p = (filtered_df['UserId'].drop_duplicates().shape[0] / df_emails['UserId'].drop_duplicates().shape[0]) * 100\n",
    "print('Probability a user is impacted by broken links ' + f'{p:,}' + '%')"
   ]
  },
  {
   "cell_type": "markdown",
   "metadata": {},
   "source": [
    "### Question 6\n",
    "The team's product manager is thinking we may be sending too much email. Is there a campaign that we should consider no longer sending? (e.g. its performance has never been good). When looking at performance of the emails does time matter or do they perform consistently over time?"
   ]
  },
  {
   "cell_type": "code",
   "execution_count": 113,
   "metadata": {},
   "outputs": [
    {
     "data": {
      "text/html": [
       "<div>\n",
       "<style scoped>\n",
       "    .dataframe tbody tr th:only-of-type {\n",
       "        vertical-align: middle;\n",
       "    }\n",
       "\n",
       "    .dataframe tbody tr th {\n",
       "        vertical-align: top;\n",
       "    }\n",
       "\n",
       "    .dataframe thead th {\n",
       "        text-align: right;\n",
       "    }\n",
       "</style>\n",
       "<table border=\"1\" class=\"dataframe\">\n",
       "  <thead>\n",
       "    <tr style=\"text-align: right;\">\n",
       "      <th></th>\n",
       "      <th>emailed</th>\n",
       "      <th>open</th>\n",
       "      <th>click</th>\n",
       "      <th>open_rate</th>\n",
       "      <th>clickthru_rate</th>\n",
       "    </tr>\n",
       "  </thead>\n",
       "  <tbody>\n",
       "    <tr>\n",
       "      <th>count</th>\n",
       "      <td>84.000</td>\n",
       "      <td>84.000</td>\n",
       "      <td>84.000</td>\n",
       "      <td>84.000</td>\n",
       "      <td>84.000</td>\n",
       "    </tr>\n",
       "    <tr>\n",
       "      <th>mean</th>\n",
       "      <td>5644.798</td>\n",
       "      <td>1664.548</td>\n",
       "      <td>276.798</td>\n",
       "      <td>0.409</td>\n",
       "      <td>0.129</td>\n",
       "    </tr>\n",
       "    <tr>\n",
       "      <th>std</th>\n",
       "      <td>18924.880</td>\n",
       "      <td>5208.048</td>\n",
       "      <td>684.519</td>\n",
       "      <td>0.246</td>\n",
       "      <td>0.183</td>\n",
       "    </tr>\n",
       "    <tr>\n",
       "      <th>min</th>\n",
       "      <td>1.000</td>\n",
       "      <td>0.000</td>\n",
       "      <td>0.000</td>\n",
       "      <td>0.000</td>\n",
       "      <td>0.000</td>\n",
       "    </tr>\n",
       "    <tr>\n",
       "      <th>25%</th>\n",
       "      <td>7.750</td>\n",
       "      <td>3.000</td>\n",
       "      <td>0.000</td>\n",
       "      <td>0.243</td>\n",
       "      <td>0.000</td>\n",
       "    </tr>\n",
       "    <tr>\n",
       "      <th>50%</th>\n",
       "      <td>158.500</td>\n",
       "      <td>55.500</td>\n",
       "      <td>14.500</td>\n",
       "      <td>0.409</td>\n",
       "      <td>0.067</td>\n",
       "    </tr>\n",
       "    <tr>\n",
       "      <th>75%</th>\n",
       "      <td>1441.750</td>\n",
       "      <td>419.500</td>\n",
       "      <td>130.250</td>\n",
       "      <td>0.517</td>\n",
       "      <td>0.158</td>\n",
       "    </tr>\n",
       "    <tr>\n",
       "      <th>max</th>\n",
       "      <td>121542.000</td>\n",
       "      <td>32948.000</td>\n",
       "      <td>4216.000</td>\n",
       "      <td>1.000</td>\n",
       "      <td>1.000</td>\n",
       "    </tr>\n",
       "  </tbody>\n",
       "</table>\n",
       "</div>"
      ],
      "text/plain": [
       "         emailed      open    click  open_rate  clickthru_rate\n",
       "count     84.000    84.000   84.000     84.000          84.000\n",
       "mean    5644.798  1664.548  276.798      0.409           0.129\n",
       "std    18924.880  5208.048  684.519      0.246           0.183\n",
       "min        1.000     0.000    0.000      0.000           0.000\n",
       "25%        7.750     3.000    0.000      0.243           0.000\n",
       "50%      158.500    55.500   14.500      0.409           0.067\n",
       "75%     1441.750   419.500  130.250      0.517           0.158\n",
       "max   121542.000 32948.000 4216.000      1.000           1.000"
      ]
     },
     "execution_count": 113,
     "metadata": {},
     "output_type": "execute_result"
    }
   ],
   "source": [
    "# modules\n",
    "import pandas as pd\n",
    "import datetime\n",
    "import pytz\n",
    "pst = pytz.timezone('US/Pacific')\n",
    "import matplotlib.pyplot as plt\n",
    "\n",
    "# Load the data\n",
    "# normally don't do this but want each question to be able to run individually\n",
    "df_emails = pd.read_csv('C:/Users/peter/Desktop/fieldlevel/data/email_data.csv',delimiter=',')\n",
    "\n",
    "### Emails \n",
    "# only looking at email performance this time around\n",
    "# assuming no broken links\n",
    "dff = df_emails\n",
    "dff['EmailSentDateTimeUtc'] = pd.to_datetime(dff['EmailSentDateTimeUtc'],utc=True)\n",
    "\n",
    "# binary columns for email, clicked\n",
    "dff['emailed'] = dff['EmailCampaignId']\n",
    "dff['open'] = dff['EmailOpenedDateTimeUtc']\n",
    "dff['click'] = dff['EmailClickedDateTimeUtc']\n",
    "dff[['emailed', 'open', 'click']] = dff[['emailed', 'open', 'click']].notnull().astype(int)\n",
    "\n",
    "# let's look at overall KPIs\n",
    "dff_b = dff[['EmailCampaignId', 'emailed', 'open', 'click']].groupby('EmailCampaignId').sum()\n",
    "dff_b['open_rate'] = dff_b['open']/dff_b['emailed']\n",
    "dff_b['clickthru_rate'] = dff_b['click']/dff_b['emailed'] # main KPI\n",
    "dff_b.describe() #review generic KPIs"
   ]
  },
  {
   "cell_type": "code",
   "execution_count": 114,
   "metadata": {},
   "outputs": [
    {
     "name": "stdout",
     "output_type": "stream",
     "text": [
      "One email campaign is significantly worse than the rest of the low performing campaigns that has high volume.\n",
      "We should consider removing this email campaign as it will reduce unnecessary emails and improve click thru rates.\n"
     ]
    }
   ],
   "source": [
    "# okay, so there is def a power law as median is worse than mean\n",
    "# probably do not run campaigns for long if no clicks\n",
    "dff_b.reset_index(level=0, inplace=True)\n",
    "dff_b['clickthru_rate'].quantile(0.25) # 25th percentile is still at zero\n",
    "dff_b[dff_b['clickthru_rate'] <= dff_b['clickthru_rate'].quantile(0.25)].sum() # lot of small email campaigns with low email numbers\n",
    "\n",
    "# let's focus on campaigns with more than avg emails send\n",
    "print('One email campaign is significantly worse than the rest of the low performing campaigns that has high volume.')\n",
    "dff_b[dff_b['emailed'] >= dff_b['emailed'].mean()].sort_values(['clickthru_rate'], ascending=True).head(10) # okay one email campaign is really bad\n",
    "#1-(dff_b['emailed'].sum() - 121542)/ dff_b['emailed'].sum() # you can remove 25.6% of your emails\n",
    "print('We should consider removing this email campaign as it will reduce unnecessary emails and improve click thru rates.')"
   ]
  },
  {
   "cell_type": "code",
   "execution_count": 115,
   "metadata": {},
   "outputs": [
    {
     "name": "stdout",
     "output_type": "stream",
     "text": [
      "We should discontinue email campaign: 82833411612 has it has low click thru rates and sends a lot of emails\n",
      "If we discontinue email campaign: 82833411612, we reduce emails by -25.63%\n",
      "If we discontinue email campaign: 82833411612, Aggregate Clickthru rates improves 23.65%\n",
      "It looks like this email campaign has gotten slightly worse over time but more consistent and volume is static:\n"
     ]
    },
    {
     "data": {
      "text/plain": [
       "<matplotlib.axes._subplots.AxesSubplot at 0x17a33c36e88>"
      ]
     },
     "metadata": {},
     "output_type": "display_data"
    },
    {
     "data": {
      "text/plain": [
       "<matplotlib.axes._subplots.AxesSubplot at 0x17a33c51448>"
      ]
     },
     "metadata": {},
     "output_type": "display_data"
    },
    {
     "data": {
      "image/png": "[encoded data removed]",
      "text/plain": [
       "<Figure size 432x288 with 1 Axes>"
      ]
     },
     "metadata": {
      "needs_background": "light"
     },
     "output_type": "display_data"
    },
    {
     "data": {
      "image/png": "[encoded data removed]",
      "text/plain": [
       "<Figure size 432x288 with 1 Axes>"
      ]
     },
     "metadata": {
      "needs_background": "light"
     },
     "output_type": "display_data"
    }
   ],
   "source": [
    "# how does this impact the overall performance if we drop it\n",
    "dff_c = dff_b[dff_b['EmailCampaignId'] != 82833411612]\n",
    "g = round(((dff_c['emailed'].sum()/ dff_b['emailed'].sum())-1)*100,2)\n",
    "h = round((((dff_c['click'].sum()/dff_c['emailed'].sum())  / (dff_b['click'].sum()/dff_b['emailed'].sum())) - 1)*100,2)\n",
    "print('We should discontinue email campaign: 82833411612 has it has low click thru rates and sends a lot of emails')\n",
    "print('If we discontinue email campaign: 82833411612, we reduce emails by ' + f'{g:,}' + '%')\n",
    "print('If we discontinue email campaign: 82833411612, Aggregate Clickthru rates improves ' + f'{h:,}' + '%')\n",
    "\n",
    "# how does that campaign perform over time?\n",
    "df_c = dff.copy(deep=True)\n",
    "df_c = df_c[df_c['EmailCampaignId'] == 82833411612]\n",
    "# convert to datetime\n",
    "df_c['EmailSentDateTimeUtc'] = pd.to_datetime(df_c['EmailSentDateTimeUtc'])\n",
    "df_c['day'] = df_c['EmailSentDateTimeUtc'].dt.strftime('%Y-%m-%d') # pst day\n",
    "df_c = df_c[['day', 'emailed', 'open', 'click']].groupby('day').sum()\n",
    "df_c['open_rate'] = df_c['open']/df_c['emailed']\n",
    "df_c['clickthru_rate'] = df_c['click']/df_c['emailed'] # main KPI\n",
    "df_c.reset_index(level=0, inplace=True)\n",
    "# computing a 7 day rolling average\n",
    "df_c['14_day_rolling_avg_clickthru'] = df_c.clickthru_rate.rolling(14).mean()\n",
    "df_c['14_day_rolling_avg_emails'] = df_c.emailed.rolling(14).mean()\n",
    "\n",
    "print('It looks like this email campaign has gotten slightly worse over time but more consistent and volume is static:')\n",
    "display(df_c.plot(x='day', y ='14_day_rolling_avg_clickthru'))\n",
    "display(df_c.plot(x='day', y ='14_day_rolling_avg_emails'))"
   ]
  },
  {
   "cell_type": "code",
   "execution_count": null,
   "metadata": {},
   "outputs": [],
   "source": []
  },
  {
   "cell_type": "markdown",
   "metadata": {},
   "source": [
    "### Question 7\n",
    "Once the experiment launches the team wants to track changes to the probability of an email getting clicked. In preparation for the experiment launch, plot a graph comparing the probability a user clicks on an email for each of the two experimental groups aggregated on a daily basis. In a paragraph, describe whether you think this is a good experimental design.\n",
    "\n"
   ]
  },
  {
   "cell_type": "code",
   "execution_count": null,
   "metadata": {},
   "outputs": [],
   "source": []
  },
  {
   "cell_type": "markdown",
   "metadata": {},
   "source": [
    "### Question 8\n",
    "Finally, the product manager is worried emails are not having the impact we think. In particular they are concerned that unengaged users (users who have not logged into FieldLevel for 6 months) do not open or click on emails and because of this, efforts to re-engage users that focus on email will not be effective. The PM would like you to explore whether there is evidence that emails are effective with engaged users (users who log in without emails prompting them) but not effective on unengaged users. Explore the data, visualizing the relationship between emails sent and user activity both in login and activity count. Write a paragraph to support or argue against the product managers concern. Use statistical methods support your conclusion but balance that with plain language that non-technical users can understand."
   ]
  }
 ],
 "metadata": {
  "kernelspec": {
   "display_name": "Python 3",
   "language": "python",
   "name": "python3"
  },
  "language_info": {
   "codemirror_mode": {
    "name": "ipython",
    "version": 3
   },
   "file_extension": ".py",
   "mimetype": "text/x-python",
   "name": "python",
   "nbconvert_exporter": "python",
   "pygments_lexer": "ipython3",
   "version": "3.7.4"
  }
 },
 "nbformat": 4,
 "nbformat_minor": 4
}
